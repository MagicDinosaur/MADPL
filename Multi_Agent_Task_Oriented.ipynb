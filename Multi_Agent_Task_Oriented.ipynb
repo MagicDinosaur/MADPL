{
  "nbformat": 4,
  "nbformat_minor": 0,
  "metadata": {
    "colab": {
      "name": "Multi-Agent Task-Oriented.ipynb",
      "provenance": [],
      "collapsed_sections": [],
      "machine_shape": "hm",
      "authorship_tag": "ABX9TyMr+4UzPd3nmfJ3M6F0ynTD",
      "include_colab_link": true
    },
    "kernelspec": {
      "name": "python3",
      "display_name": "Python 3"
    },
    "language_info": {
      "name": "python"
    },
    "accelerator": "GPU"
  },
  "cells": [
    {
      "cell_type": "markdown",
      "metadata": {
        "id": "view-in-github",
        "colab_type": "text"
      },
      "source": [
        "<a href=\"https://colab.research.google.com/github/MagicDinosaur/MADPL/blob/master/Multi_Agent_Task_Oriented.ipynb\" target=\"_parent\"><img src=\"https://colab.research.google.com/assets/colab-badge.svg\" alt=\"Open In Colab\"/></a>"
      ]
    },
    {
      "cell_type": "code",
      "execution_count": 1,
      "metadata": {
        "colab": {
          "base_uri": "https://localhost:8080/"
        },
        "id": "uT8mgDJnfFiS",
        "outputId": "44208a70-f691-453b-f5f8-b6367e6cb8e0"
      },
      "outputs": [
        {
          "output_type": "stream",
          "name": "stdout",
          "text": [
            "Cloning into 'MADPL'...\n",
            "remote: Enumerating objects: 45, done.\u001b[K\n",
            "remote: Counting objects: 100% (45/45), done.\u001b[K\n",
            "remote: Compressing objects: 100% (32/32), done.\u001b[K\n",
            "remote: Total 45 (delta 17), reused 35 (delta 12), pack-reused 0\u001b[K\n",
            "Unpacking objects: 100% (45/45), done.\n"
          ]
        }
      ],
      "source": [
        "!git clone https://github.com/MagicDinosaur/MADPL.git "
      ]
    },
    {
      "cell_type": "code",
      "source": [
        "!unzip /content/MADPL/data/MADPLdata.zip -d /content/MADPL/data"
      ],
      "metadata": {
        "colab": {
          "base_uri": "https://localhost:8080/"
        },
        "id": "egR4jo4dfVAe",
        "outputId": "b4ab44f8-2f08-4195-8666-563004b645e1"
      },
      "execution_count": 2,
      "outputs": [
        {
          "output_type": "stream",
          "name": "stdout",
          "text": [
            "Archive:  /content/MADPL/data/MADPLdata.zip\n",
            "  inflating: /content/MADPL/data/restaurant_db.json  \n",
            "  inflating: /content/MADPL/data/taxi_db.json  \n",
            "  inflating: /content/MADPL/data/testListFile.json  \n",
            "  inflating: /content/MADPL/data/train_db.json  \n",
            "  inflating: /content/MADPL/data/valListFile.json  \n",
            "  inflating: /content/MADPL/data/value_set.json  \n",
            "   creating: /content/MADPL/data/processed_data/\n",
            "  inflating: /content/MADPL/data/processed_data/goal_model.pkl  \n",
            "  inflating: /content/MADPL/data/processed_data/test.json  \n",
            "  inflating: /content/MADPL/data/processed_data/test_glo.pt  \n",
            "  inflating: /content/MADPL/data/processed_data/test_goal.json  \n",
            "  inflating: /content/MADPL/data/processed_data/test_sys.pt  \n",
            "  inflating: /content/MADPL/data/processed_data/test_usr.pt  \n",
            "  inflating: /content/MADPL/data/processed_data/train.json  \n",
            "  inflating: /content/MADPL/data/processed_data/train_glo.pt  \n",
            "  inflating: /content/MADPL/data/processed_data/train_goal.json  \n",
            "  inflating: /content/MADPL/data/processed_data/train_sys.pt  \n",
            "  inflating: /content/MADPL/data/processed_data/train_usr.pt  \n",
            "  inflating: /content/MADPL/data/processed_data/valid.json  \n",
            "  inflating: /content/MADPL/data/processed_data/valid_glo.pt  \n",
            "  inflating: /content/MADPL/data/processed_data/valid_goal.json  \n",
            "  inflating: /content/MADPL/data/processed_data/valid_sys.pt  \n",
            "  inflating: /content/MADPL/data/processed_data/valid_usr.pt  \n",
            "  inflating: /content/MADPL/data/annotated_user_da_with_span_full_patchName.json  \n",
            "  inflating: /content/MADPL/data/attraction_db.json  \n",
            "  inflating: /content/MADPL/data/hospital_db.json  \n",
            "  inflating: /content/MADPL/data/hotel_db.json  \n",
            "  inflating: /content/MADPL/data/police_db.json  \n",
            "   creating: /content/MADPL/data/model_madpl/\n",
            "   creating: /content/MADPL/data/model_madpl/sys/\n",
            "  inflating: /content/MADPL/data/model_madpl/sys/selected_pol.mdl  \n",
            "   creating: /content/MADPL/data/model_madpl/usr/\n",
            "  inflating: /content/MADPL/data/model_madpl/usr/selected_pol.mdl  \n"
          ]
        }
      ]
    },
    {
      "cell_type": "code",
      "source": [
        "\n",
        "!ls"
      ],
      "metadata": {
        "id": "MNmQCL-X2EzQ",
        "outputId": "02e450c4-e5f4-4728-c618-cad316a83c9e",
        "colab": {
          "base_uri": "https://localhost:8080/"
        }
      },
      "execution_count": 11,
      "outputs": [
        {
          "output_type": "stream",
          "name": "stdout",
          "text": [
            "MADPL  result.txt  sample_data\n"
          ]
        }
      ]
    },
    {
      "cell_type": "code",
      "source": [
        "!python3 /content/MADPL/main.py --test True --load data/model_madpl/selected > result.txt"
      ],
      "metadata": {
        "colab": {
          "base_uri": "https://localhost:8080/"
        },
        "id": "_rO4h66lfXzW",
        "outputId": "7deb9098-0567-452a-a19c-07f142d8ae7d"
      },
      "execution_count": 12,
      "outputs": [
        {
          "output_type": "stream",
          "name": "stdout",
          "text": [
            "DEBUG:root:Namespace(batchsz=32, batchsz_traj=512, clip=10, config='multiwoz', data_dir='data', epoch=48, gamma=0.99, interval=400, load='data/model_madpl/selected', log_dir='log', lr_policy=0.001, lr_vnet=3e-05, policy_weight_sys=2.5, policy_weight_usr=4, pretrain=False, print_per_batch=200, process=8, save_dir='model_multi', save_per_epoch=4, test=True, test_case=1000, weight_decay=1e-05)\n",
            "DEBUG:root:test\n",
            "Traceback (most recent call last):\n",
            "  File \"/content/MADPL/main.py\", line 84, in <module>\n",
            "    agent = Learner(make_env, args, config, 1, infer=True)\n",
            "  File \"/content/MADPL/learner.py\", line 177, in __init__\n",
            "    self.env_list.append(env_cls(args.data_dir, cfg))\n",
            "  File \"/content/MADPL/main.py\", line 37, in make_env\n",
            "    controller = Controller(data_dir, config)\n",
            "  File \"/content/MADPL/controller.py\", line 13, in __init__\n",
            "    super(Controller, self).__init__(data_dir, config)\n",
            "  File \"/content/MADPL/tracker.py\", line 16, in __init__\n",
            "    self.db = DBQuery(data_dir, config)\n",
            "  File \"/content/MADPL/dbquery.py\", line 12, in __init__\n",
            "    with open('{}/{}_db.json'.format(data_dir, domain)) as f:\n",
            "FileNotFoundError: [Errno 2] No such file or directory: 'data/train_db.json'\n"
          ]
        }
      ]
    }
  ]
}